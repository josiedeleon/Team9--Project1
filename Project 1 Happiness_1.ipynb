{
 "cells": [
  {
   "cell_type": "code",
   "execution_count": 1,
   "metadata": {
    "scrolled": false
   },
   "outputs": [],
   "source": [
    "import pandas as pd\n",
    "import matplotlib.pyplot as plt\n",
    "import numpy as np\n",
    "import requests\n",
    "import json\n",
    "from scipy.stats import linregress,pearsonr\n",
    "import time"
   ]
  },
  {
   "cell_type": "code",
   "execution_count": 2,
   "metadata": {
    "scrolled": false
   },
   "outputs": [
    {
     "data": {
      "text/html": [
       "<div>\n",
       "<style scoped>\n",
       "    .dataframe tbody tr th:only-of-type {\n",
       "        vertical-align: middle;\n",
       "    }\n",
       "\n",
       "    .dataframe tbody tr th {\n",
       "        vertical-align: top;\n",
       "    }\n",
       "\n",
       "    .dataframe thead th {\n",
       "        text-align: right;\n",
       "    }\n",
       "</style>\n",
       "<table border=\"1\" class=\"dataframe\">\n",
       "  <thead>\n",
       "    <tr style=\"text-align: right;\">\n",
       "      <th></th>\n",
       "      <th>country</th>\n",
       "      <th>happiness_score_2019</th>\n",
       "      <th>GDP_per_capita_2019</th>\n",
       "      <th>social_support_2019</th>\n",
       "      <th>life_expectancy_2019</th>\n",
       "      <th>freedom_2019</th>\n",
       "      <th>generosity_2019</th>\n",
       "      <th>corruption_2019</th>\n",
       "      <th>happiness_score_2020</th>\n",
       "      <th>GDP_per_capita_2020</th>\n",
       "      <th>social_support_2020</th>\n",
       "      <th>life_expectancy_2020</th>\n",
       "      <th>freedom_2020</th>\n",
       "      <th>generosity_2020</th>\n",
       "      <th>corruption_2020</th>\n",
       "    </tr>\n",
       "  </thead>\n",
       "  <tbody>\n",
       "    <tr>\n",
       "      <th>0</th>\n",
       "      <td>Finland</td>\n",
       "      <td>7.769</td>\n",
       "      <td>1.340</td>\n",
       "      <td>1.587</td>\n",
       "      <td>0.986</td>\n",
       "      <td>0.596</td>\n",
       "      <td>0.153</td>\n",
       "      <td>0.393</td>\n",
       "      <td>7.8087</td>\n",
       "      <td>1.285190</td>\n",
       "      <td>1.499526</td>\n",
       "      <td>0.961271</td>\n",
       "      <td>0.662317</td>\n",
       "      <td>0.159670</td>\n",
       "      <td>0.477857</td>\n",
       "    </tr>\n",
       "    <tr>\n",
       "      <th>1</th>\n",
       "      <td>Denmark</td>\n",
       "      <td>7.600</td>\n",
       "      <td>1.383</td>\n",
       "      <td>1.573</td>\n",
       "      <td>0.996</td>\n",
       "      <td>0.592</td>\n",
       "      <td>0.252</td>\n",
       "      <td>0.410</td>\n",
       "      <td>7.6456</td>\n",
       "      <td>1.326949</td>\n",
       "      <td>1.503449</td>\n",
       "      <td>0.979333</td>\n",
       "      <td>0.665040</td>\n",
       "      <td>0.242793</td>\n",
       "      <td>0.495260</td>\n",
       "    </tr>\n",
       "    <tr>\n",
       "      <th>2</th>\n",
       "      <td>Norway</td>\n",
       "      <td>7.554</td>\n",
       "      <td>1.488</td>\n",
       "      <td>1.582</td>\n",
       "      <td>1.028</td>\n",
       "      <td>0.603</td>\n",
       "      <td>0.271</td>\n",
       "      <td>0.341</td>\n",
       "      <td>7.4880</td>\n",
       "      <td>1.424207</td>\n",
       "      <td>1.495173</td>\n",
       "      <td>1.008072</td>\n",
       "      <td>0.670201</td>\n",
       "      <td>0.287985</td>\n",
       "      <td>0.434101</td>\n",
       "    </tr>\n",
       "    <tr>\n",
       "      <th>3</th>\n",
       "      <td>Iceland</td>\n",
       "      <td>7.494</td>\n",
       "      <td>1.380</td>\n",
       "      <td>1.624</td>\n",
       "      <td>1.026</td>\n",
       "      <td>0.591</td>\n",
       "      <td>0.354</td>\n",
       "      <td>0.118</td>\n",
       "      <td>7.5045</td>\n",
       "      <td>1.326502</td>\n",
       "      <td>1.547567</td>\n",
       "      <td>1.000843</td>\n",
       "      <td>0.661981</td>\n",
       "      <td>0.362330</td>\n",
       "      <td>0.144541</td>\n",
       "    </tr>\n",
       "    <tr>\n",
       "      <th>4</th>\n",
       "      <td>Netherlands</td>\n",
       "      <td>7.488</td>\n",
       "      <td>1.396</td>\n",
       "      <td>1.522</td>\n",
       "      <td>0.999</td>\n",
       "      <td>0.557</td>\n",
       "      <td>0.322</td>\n",
       "      <td>0.298</td>\n",
       "      <td>7.4489</td>\n",
       "      <td>1.338946</td>\n",
       "      <td>1.463646</td>\n",
       "      <td>0.975675</td>\n",
       "      <td>0.613626</td>\n",
       "      <td>0.336318</td>\n",
       "      <td>0.368570</td>\n",
       "    </tr>\n",
       "  </tbody>\n",
       "</table>\n",
       "</div>"
      ],
      "text/plain": [
       "       country  happiness_score_2019  GDP_per_capita_2019  \\\n",
       "0      Finland                 7.769                1.340   \n",
       "1      Denmark                 7.600                1.383   \n",
       "2       Norway                 7.554                1.488   \n",
       "3      Iceland                 7.494                1.380   \n",
       "4  Netherlands                 7.488                1.396   \n",
       "\n",
       "   social_support_2019  life_expectancy_2019  freedom_2019  generosity_2019  \\\n",
       "0                1.587                 0.986         0.596            0.153   \n",
       "1                1.573                 0.996         0.592            0.252   \n",
       "2                1.582                 1.028         0.603            0.271   \n",
       "3                1.624                 1.026         0.591            0.354   \n",
       "4                1.522                 0.999         0.557            0.322   \n",
       "\n",
       "   corruption_2019  happiness_score_2020  GDP_per_capita_2020  \\\n",
       "0            0.393                7.8087             1.285190   \n",
       "1            0.410                7.6456             1.326949   \n",
       "2            0.341                7.4880             1.424207   \n",
       "3            0.118                7.5045             1.326502   \n",
       "4            0.298                7.4489             1.338946   \n",
       "\n",
       "   social_support_2020  life_expectancy_2020  freedom_2020  generosity_2020  \\\n",
       "0             1.499526              0.961271      0.662317         0.159670   \n",
       "1             1.503449              0.979333      0.665040         0.242793   \n",
       "2             1.495173              1.008072      0.670201         0.287985   \n",
       "3             1.547567              1.000843      0.661981         0.362330   \n",
       "4             1.463646              0.975675      0.613626         0.336318   \n",
       "\n",
       "   corruption_2020  \n",
       "0         0.477857  \n",
       "1         0.495260  \n",
       "2         0.434101  \n",
       "3         0.144541  \n",
       "4         0.368570  "
      ]
     },
     "execution_count": 2,
     "metadata": {},
     "output_type": "execute_result"
    }
   ],
   "source": [
    "#2019 Happiness dataframe\n",
    "Happy_df_2019 = pd.read_csv(\"Resources/2019_Clean.csv\")\n",
    "\n",
    "#2020 Happiness dataframe\n",
    "Happy_df_2020 = pd.read_csv(\"Resources/2020_Clean.csv\")\n",
    "\n",
    "#Merging all data sets together\n",
    "Merge1920_df = pd.merge(Happy_df_2019,Happy_df_2020, on =\"country\")\n",
    "\n",
    "\n",
    "Merge1920_df.head()"
   ]
  },
  {
   "cell_type": "code",
   "execution_count": 3,
   "metadata": {},
   "outputs": [
    {
     "name": "stdout",
     "output_type": "stream",
     "text": [
      "The correlation between both factors is 0.42\n",
      "The correlation between both factors is 0.43\n"
     ]
    },
    {
     "data": {
      "image/png": "[encoded data removed]",
      "text/plain": [
       "<Figure size 432x288 with 1 Axes>"
      ]
     },
     "metadata": {
      "needs_background": "light"
     },
     "output_type": "display_data"
    }
   ],
   "source": [
    "happiness_report = Merge1920_df\n",
    "happiness_report\n",
    "\n",
    "# Happy_2020 = Merge_df[\"happiness_score_2020\"]\n",
    "x_axis = happiness_report[\"happiness_score_2019\"]\n",
    "y_axis = happiness_report[\"corruption_2019\"]\n",
    "plt.scatter(x_axis, y_axis, c='coral')\n",
    "plt.xlabel(\"Happiness Score\")\n",
    "plt.ylabel(\"Corruption Score\")\n",
    "plt.title(\"Happiness vs. Government Trust 2019\")\n",
    "(slope, intercept, rvalue, pvalue, stderr) = linregress(x_axis, y_axis)\n",
    "regress_values = x_axis * slope + intercept\n",
    "line_eq = \"y = \" + str(round(slope,2)) + \"x + \" + str(round(intercept,2))\n",
    "plt.plot(x_axis, regress_values, \"r-\")\n",
    "plt.annotate(line_eq,(2.5,0.35),fontsize=15,color=\"red\")\n",
    "correlation = pearsonr(x_axis,y_axis)\n",
    "print(f\"The correlation between both factors is {round(correlation[0],2)}\")\n",
    "\n",
    "\n",
    "x_axis = happiness_report[\"happiness_score_2020\"]\n",
    "y_axis = happiness_report[\"corruption_2020\"]\n",
    "plt.scatter(x_axis, y_axis, c='blue')\n",
    "plt.xlabel(\"Happiness Score\")\n",
    "plt.ylabel(\"Government Trust Score\")\n",
    "plt.title(\"2019 vs 2020\")\n",
    "(slope, intercept, rvalue, pvalue, stderr) = linregress(x_axis, y_axis)\n",
    "regress_values = x_axis * slope + intercept\n",
    "line_eq = \"y = \" + str(round(slope,2)) + \"x + \" + str(round(intercept,2))\n",
    "plt.plot(x_axis, regress_values, \"r-\")\n",
    "plt.annotate(line_eq,(2.5,0.30),fontsize=15,color=\"red\")\n",
    "correlation = pearsonr(x_axis,y_axis)\n",
    "print(f\"The correlation between both factors is {round(correlation[0],2)}\")\n",
    "plt.savefig(\"Images/Happy_Corrupt\")\n",
    "plt.show()\n"
   ]
  },
  {
   "cell_type": "code",
   "execution_count": 4,
   "metadata": {},
   "outputs": [
    {
     "data": {
      "image/png": "[encoded data removed]",
      "text/plain": [
       "<Figure size 432x288 with 1 Axes>"
      ]
     },
     "metadata": {
      "needs_background": "light"
     },
     "output_type": "display_data"
    }
   ],
   "source": [
    "Happy_2019 = happiness_report[\"happiness_score_2019\"].mean()\n",
    "Happy_2020 = happiness_report[\"happiness_score_2020\"].mean()\n",
    "\n",
    "y = [Happy_2019, Happy_2020]\n",
    "x = ['2019', '2020']\n",
    "plt.scatter(x, y, c='blue')\n",
    "plt.plot(x, y)\n",
    "plt.yticks(np.arange(5,6,0.15))\n",
    "plt.title(\"Avg Happiness 2019-2020\")\n",
    "plt.ylabel(\"Happiness Score\")\n",
    "plt.xlabel(\"Years\")\n",
    "plt.savefig(\"Images/Happiness_Score_19-20\")\n",
    "plt.show()\n",
    "\n"
   ]
  },
  {
   "cell_type": "code",
   "execution_count": null,
   "metadata": {},
   "outputs": [],
   "source": []
  },
  {
   "cell_type": "code",
   "execution_count": null,
   "metadata": {},
   "outputs": [],
   "source": []
  }
 ],
 "metadata": {
  "kernelspec": {
   "display_name": "Python 3",
   "language": "python",
   "name": "python3"
  },
  "language_info": {
   "codemirror_mode": {
    "name": "ipython",
    "version": 3
   },
   "file_extension": ".py",
   "mimetype": "text/x-python",
   "name": "python",
   "nbconvert_exporter": "python",
   "pygments_lexer": "ipython3",
   "version": "3.8.5"
  }
 },
 "nbformat": 4,
 "nbformat_minor": 4
}
