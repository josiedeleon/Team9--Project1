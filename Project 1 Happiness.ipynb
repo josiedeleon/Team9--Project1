{
 "cells": [
  {
   "cell_type": "code",
   "execution_count": null,
   "metadata": {
    "scrolled": false
   },
   "outputs": [],
   "source": [
    "import pandas as pd\n",
    "import matplotlib.pyplot as plt\n",
    "import numpy as np\n",
    "import requests\n",
    "import json\n",
    "import scipy.stats as st\n",
    "from config import api_key\n",
    "import time"
   ]
  },
  {
   "cell_type": "code",
   "execution_count": null,
   "metadata": {
    "scrolled": true
   },
   "outputs": [],
   "source": [
    "#2019 Happiness dataframe\n",
    "Happy_df_2019 = pd.read_csv(\"Resources/2019_Clean.csv\")\n",
    "\n",
    "#2020 Happiness dataframe\n",
    "Happy_df_2020 = pd.read_csv(\"Resources/2020_Clean.csv\")\n",
    "\n",
    "#Merging all data sets together\n",
    "\n",
    "Merge1920_df = pd.merge(Happy_df_2019,Happy_df_2020, on =\"country\")\n",
    "\n",
    "#Merge_df = pd.merge(Merge1518_df,Merge1920_df, on =\"country\")\n",
    "\n",
    "happiness_report = Merge1920_df\n",
    "happiness_report"
   ]
  },
  {
   "cell_type": "code",
   "execution_count": null,
   "metadata": {},
   "outputs": [],
   "source": [
    "Merge_grt_df = happiness_report[happiness_report.happiness_score_2019 > 5]\n",
    "Merge_less_df = happiness_report[happiness_report.happiness_score_2019 < 5]\n"
   ]
  },
  {
   "cell_type": "code",
   "execution_count": null,
   "metadata": {
    "scrolled": true
   },
   "outputs": [],
   "source": [
    "#2019 GDP data for countries with a happiness score of 5 or greater\n",
    "plt.scatter(Merge_grt_df[\"happiness_score_2019\"], Merge_grt_df[\"GDP_per_capita_2019\"], label = \"2019\", c = \"#334CFF\")\n",
    "(slope, intercept, rvalue, pvalue, stderr) = st.linregress(Merge_grt_df[\"happiness_score_2019\"],Merge_grt_df[\"GDP_per_capita_2019\"])\n",
    "regress_values = Merge_grt_df[\"happiness_score_2019\"] * slope + intercept\n",
    "line_eq = \"y = \" + str(round(slope,2)) + \"x + \" + str(round(intercept,2))\n",
    "plt.plot(Merge_grt_df[\"happiness_score_2019\"],regress_values,\"r-\")\n",
    "plt.annotate(line_eq,(6.5,0.6),fontsize=15,color=\"blue\")\n",
    "\n",
    "#2020 GDP data for countries with a happiness score of 5 or greater\n",
    "plt.scatter(Merge_grt_df[\"happiness_score_2020\"], Merge_grt_df[\"GDP_per_capita_2020\"], label = \"2020\", c = \"#FFA233\")\n",
    "(slope, intercept, rvalue, pvalue, stderr) = st.linregress(Merge_grt_df[\"happiness_score_2020\"],Merge_grt_df[\"GDP_per_capita_2020\"])\n",
    "regress_values = Merge_grt_df[\"happiness_score_2020\"] * slope + intercept\n",
    "line_eq = \"y = \" + str(round(slope,2)) + \"x + \" + str(round(intercept,2))\n",
    "plt.plot(Merge_grt_df[\"happiness_score_2020\"],regress_values,\"r-\")\n",
    "plt.annotate(line_eq,(6.5,0.5),fontsize=15,color=\"orange\")\n",
    "plt.xlabel(\"Happiness Score\")\n",
    "plt.ylabel(\"GDP Per Capita By Country\")\n",
    "plt.title(\"2019 vs 2020 Happiness Score In Relation To GDP\")\n",
    "plt.legend()\n",
    "plt.savefig('Grt_GDP.png')\n",
    "\n",
    "#correlation\n",
    "correlation_Grt_2019 = st.pearsonr(Merge_grt_df[\"happiness_score_2019\"], Merge_grt_df[\"GDP_per_capita_2019\"])\n",
    "print(f\"The correlation between GDP and Happiness Score for countries with a Happiness score of >5 in 2019 is {round(correlation_Grt_2019[0],2)}\")\n",
    "correlation_Grt_2020 = st.pearsonr(Merge_grt_df[\"happiness_score_2020\"], Merge_grt_df[\"GDP_per_capita_2020\"])\n",
    "print(f\"The correlation between GDP and Happiness Score for countries with a Happiness score of >5 in 2020 is {round(correlation_Grt_2020[0],2)}\")\n",
    "plt.show()\n",
    "\n",
    "\n",
    "\n",
    "#2019 GDP data for countries with a happiness score of 5 or less\n",
    "plt.scatter(Merge_less_df[\"happiness_score_2019\"], Merge_less_df[\"GDP_per_capita_2019\"], label = \"2019\", c = \"#334CFF\")\n",
    "(slope, intercept, rvalue, pvalue, stderr) = st.linregress(Merge_less_df[\"happiness_score_2019\"],Merge_less_df[\"GDP_per_capita_2019\"])\n",
    "regress_values = Merge_less_df[\"happiness_score_2019\"] * slope + intercept\n",
    "line_eq = \"y = \" + str(round(slope,2)) + \"x + \" + str(round(intercept,2))\n",
    "plt.plot(Merge_less_df[\"happiness_score_2019\"],regress_values,\"r-\")\n",
    "plt.annotate(line_eq,(2.5,0.87),fontsize=15,color=\"blue\")\n",
    "\n",
    "#2020 GDP data for countries with a happiness score of 5 or less\n",
    "plt.scatter(Merge_less_df[\"happiness_score_2020\"], Merge_less_df[\"GDP_per_capita_2020\"], Label = \"2020\", c = \"#FFA233\")\n",
    "(slope, intercept, rvalue, pvalue, stderr) = st.linregress(Merge_less_df[\"happiness_score_2020\"],Merge_less_df[\"GDP_per_capita_2020\"])\n",
    "regress_values = Merge_less_df[\"happiness_score_2020\"] * slope + intercept\n",
    "line_eq = \"y = \" + str(round(slope,2)) + \"x + \" + str(round(intercept,2))\n",
    "plt.plot(Merge_less_df[\"happiness_score_2020\"],regress_values,\"r-\")\n",
    "plt.annotate(line_eq,(2.5,0.78),fontsize=15,color=\"orange\")\n",
    "\n",
    "#making graph based on data\n",
    "plt.xlabel(\"Happiness Score\")\n",
    "plt.ylabel(\"GDP Per Capita By Country\")\n",
    "plt.title(\"2019 vs 2020 Happiness Score In Relation To GDP\")\n",
    "plt.legend()\n",
    "plt.savefig('Less_GDP.png')\n",
    "\n",
    "#correlation\n",
    "correlation_less_2019 = st.pearsonr(Merge_less_df[\"happiness_score_2019\"], Merge_less_df[\"GDP_per_capita_2019\"])\n",
    "print(f\"The correlation between GDP and Happiness Score for countries with a Happiness score of <5 in 2019 is {round(correlation_less_2019[0],2)}\")\n",
    "correlation_less_2020 = st.pearsonr(Merge_less_df[\"happiness_score_2020\"], Merge_less_df[\"GDP_per_capita_2020\"])\n",
    "print(f\"The correlation between GDP and Happiness Score for countries with a Happiness score of <5 in 2020 is {round(correlation_less_2020[0],2)}\")\n",
    "plt.show()\n"
   ]
  },
  {
   "cell_type": "code",
   "execution_count": null,
   "metadata": {},
   "outputs": [],
   "source": []
  }
 ],
 "metadata": {
  "kernelspec": {
   "display_name": "Python 3",
   "language": "python",
   "name": "python3"
  },
  "language_info": {
   "codemirror_mode": {
    "name": "ipython",
    "version": 3
   },
   "file_extension": ".py",
   "mimetype": "text/x-python",
   "name": "python",
   "nbconvert_exporter": "python",
   "pygments_lexer": "ipython3",
   "version": "3.8.5"
  }
 },
 "nbformat": 4,
 "nbformat_minor": 4
}
